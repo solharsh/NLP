{
  "nbformat": 4,
  "nbformat_minor": 0,
  "metadata": {
    "colab": {
      "name": "Twitter_Sentiment_Basic.ipynb",
      "provenance": [],
      "authorship_tag": "ABX9TyMIM/j9BtHowoNjG6EWQzuC",
      "include_colab_link": true
    },
    "kernelspec": {
      "name": "python3",
      "display_name": "Python 3"
    }
  },
  "cells": [
    {
      "cell_type": "markdown",
      "metadata": {
        "id": "view-in-github",
        "colab_type": "text"
      },
      "source": [
        "<a href=\"https://colab.research.google.com/github/solharsh/NLP/blob/master/Twitter_Sentiment_Basic.ipynb\" target=\"_parent\"><img src=\"https://colab.research.google.com/assets/colab-badge.svg\" alt=\"Open In Colab\"/></a>"
      ]
    },
    {
      "cell_type": "code",
      "metadata": {
        "id": "Ib45HvRkGf6C",
        "colab_type": "code",
        "colab": {}
      },
      "source": [
        "import tweepy\n",
        "consumer_key=\"hmL3tbCl4Y7JgpKsDHKCpTEm9\"\n",
        "consumer_secret=\"zGJXewHINvlNE7ViTA10YuGsjZcOJamA1dgdF3V2aN0uF54zc2\"\n",
        "access_token=\"741301816361635840-p46wy3cSUEfuoozXvYNDvrfhpQjjt07\"\n",
        "access_token_secret=\"Edvzh6AN9KZdZtIClohE1K3KWPMlzY8u3rRRRxKJn8ztW\""
      ],
      "execution_count": 0,
      "outputs": []
    },
    {
      "cell_type": "code",
      "metadata": {
        "id": "cboRD9dGGguh",
        "colab_type": "code",
        "colab": {}
      },
      "source": [
        "auth=tweepy.OAuthHandler(consumer_key,consumer_secret)\n",
        "auth.set_access_token(access_token,access_token_secret)"
      ],
      "execution_count": 0,
      "outputs": []
    },
    {
      "cell_type": "code",
      "metadata": {
        "id": "qW9suam5GkoH",
        "colab_type": "code",
        "colab": {}
      },
      "source": [
        "api=tweepy.API(auth)\n",
        "user=api.user_timeline(screen_name=\"narendramodi\")"
      ],
      "execution_count": 0,
      "outputs": []
    },
    {
      "cell_type": "code",
      "metadata": {
        "id": "ckVTRu1ZHXSV",
        "colab_type": "code",
        "colab": {}
      },
      "source": [
        "tmpp=[]\n",
        "tweets_for_csv =[tweet.text for tweet in user] # CSV file created  \n",
        "for j in tweets_for_csv:\n",
        "        tmpp.append(j)"
      ],
      "execution_count": 0,
      "outputs": []
    },
    {
      "cell_type": "code",
      "metadata": {
        "id": "0yUlSRO0HYii",
        "colab_type": "code",
        "colab": {}
      },
      "source": [
        "import numpy as nm\n",
        "# Cleaning Spaces from each and every tweets\n",
        "for  i in range(len(tmpp)):\n",
        "     tmpp[i]=tmpp[i].replace('\\n','')"
      ],
      "execution_count": 0,
      "outputs": []
    },
    {
      "cell_type": "code",
      "metadata": {
        "id": "IuygtnA9HZ8e",
        "colab_type": "code",
        "colab": {
          "base_uri": "https://localhost:8080/",
          "height": 350
        },
        "outputId": "0fabd469-5ab5-469a-fe10-3a52cb9697cf"
      },
      "source": [
        "import re\n",
        "\n",
        "for i in range(len(tmpp)):\n",
        "    x=re.compile(r'https://t.co/*[a-zA-Z0-9]*',re.DOTALL)\n",
        "    tmpp[i]=re.sub(x,'',tmpp[i])\n",
        "    print(tmpp[i])"
      ],
      "execution_count": 26,
      "outputs": [
        {
          "output_type": "stream",
          "text": [
            "I look forward to your ideas and inputs for this month’s #MannKiBaat, which will take place on the 31st. You can:… \n",
            "Greetings to Union Minister Shri @TCGEHLOT Ji on his birthday. May Almighty bless him with a long and healthy life.\n",
            "Birthday wishes to our former PM Shri @H_D_Devegowda Ji. Praying for his long life and good health.\n",
            "यह गीत हर किसी को उत्साहित और प्रेरित करने वाला है। इसमें आत्मनिर्भर भारत के लिए सुरों से सजा उद्घोष है। \n",
            "Mazel Tov my friend @netanyahu for forming your fifth government in Israel. I wish you and @gantzbe success and loo… \n",
            "מזל טוב ידידי @netanyahu על הקמת הממשלה החמישית בישראל. אני מאחל לך ול@gantzbe הצלחה רבה ומצפה להמשך שיתוף פעולה הד… \n",
            "Measures and reforms announced by the FM today will have a transformative impact on our health and education sector… \n",
            "Important sectors such as coal, minerals, defence, aviation, space and atomic energy have been covered in the annou… \n",
            "Thank you @POTUS @realDonaldTrump. This pandemic is being fought collectively by all of us. In such times, it’s a… \n",
            "Greetings on Sikkim’s Statehood Day. Home to talented and compassionate people, Sikkim has enriched national progre… \n",
            "उत्तर प्रदेश के औरैया में सड़क दुर्घटना बेहद ही दुखद है। सरकार राहत कार्य में तत्परता से जुटी है। इस हादसे में मारे… \n",
            "I welcome today’s measures announced by FM @nsitharaman. They will help the rural economy, our hardworking farmers,… \n",
            "Sectors like medical research, clean energy and climate resilience offer great opportunities to bring Danish and In… \n",
            "Spoke to PM @Statsmin about the COVID-19 pandemic, and how India and Denmark can strengthen cooperation in the post-COVID era.\n",
            "Had an extensive interaction with @BillGates. We discussed issues ranging from India’s efforts to fight Coronavirus… \n",
            "Today’s announcements by FM @nsitharaman will especially benefit our farmers and migrant workers. The announcements… \n",
            "Today’s announcements by FM @nsitharaman will go a long way in addressing issues faced by businesses, especially MS… \n",
            "The way ahead lies in LOCAL.Local Manufacturing. Local Markets. Local Supply Chain.Local is not merely a ne… \n",
            "एक विशेष आर्थिक पैकेज जो ‘आत्मनिर्भर भारत अभियान’ की अहम कड़ी के तौर पर काम करेगा। #AatmanirbharBharat \n",
            "आत्मनिर्भर भारत की यह भव्य इमारत, इन पांच पिलर्स पर खड़ी होगी... #AatmanirbharBharat \n"
          ],
          "name": "stdout"
        }
      ]
    },
    {
      "cell_type": "code",
      "metadata": {
        "id": "afJ55CKeHbJZ",
        "colab_type": "code",
        "colab": {
          "base_uri": "https://localhost:8080/",
          "height": 350
        },
        "outputId": "7863c5ee-202b-494c-936a-7cf617295342"
      },
      "source": [
        "for i in range(len(tmpp)):\n",
        "    tmpp[i]=re.sub(r'@[a-zA-Z_.0-9]*| #[a-zA-Z0-9]*','',tmpp[i])\n",
        "    print(tmpp[i])"
      ],
      "execution_count": 27,
      "outputs": [
        {
          "output_type": "stream",
          "text": [
            "I look forward to your ideas and inputs for this month’s, which will take place on the 31st. You can:… \n",
            "Greetings to Union Minister Shri  Ji on his birthday. May Almighty bless him with a long and healthy life.\n",
            "Birthday wishes to our former PM Shri  Ji. Praying for his long life and good health.\n",
            "यह गीत हर किसी को उत्साहित और प्रेरित करने वाला है। इसमें आत्मनिर्भर भारत के लिए सुरों से सजा उद्घोष है। \n",
            "Mazel Tov my friend  for forming your fifth government in Israel. I wish you and  success and loo… \n",
            "מזל טוב ידידי  על הקמת הממשלה החמישית בישראל. אני מאחל לך ול הצלחה רבה ומצפה להמשך שיתוף פעולה הד… \n",
            "Measures and reforms announced by the FM today will have a transformative impact on our health and education sector… \n",
            "Important sectors such as coal, minerals, defence, aviation, space and atomic energy have been covered in the annou… \n",
            "Thank you   This pandemic is being fought collectively by all of us. In such times, it’s a… \n",
            "Greetings on Sikkim’s Statehood Day. Home to talented and compassionate people, Sikkim has enriched national progre… \n",
            "उत्तर प्रदेश के औरैया में सड़क दुर्घटना बेहद ही दुखद है। सरकार राहत कार्य में तत्परता से जुटी है। इस हादसे में मारे… \n",
            "I welcome today’s measures announced by FM  They will help the rural economy, our hardworking farmers,… \n",
            "Sectors like medical research, clean energy and climate resilience offer great opportunities to bring Danish and In… \n",
            "Spoke to PM  about the COVID-19 pandemic, and how India and Denmark can strengthen cooperation in the post-COVID era.\n",
            "Had an extensive interaction with  We discussed issues ranging from India’s efforts to fight Coronavirus… \n",
            "Today’s announcements by FM  will especially benefit our farmers and migrant workers. The announcements… \n",
            "Today’s announcements by FM  will go a long way in addressing issues faced by businesses, especially MS… \n",
            "The way ahead lies in LOCAL.Local Manufacturing. Local Markets. Local Supply Chain.Local is not merely a ne… \n",
            "एक विशेष आर्थिक पैकेज जो ‘आत्मनिर्भर भारत अभियान’ की अहम कड़ी के तौर पर काम करेगा। \n",
            "आत्मनिर्भर भारत की यह भव्य इमारत, इन पांच पिलर्स पर खड़ी होगी... \n"
          ],
          "name": "stdout"
        }
      ]
    },
    {
      "cell_type": "code",
      "metadata": {
        "id": "jM3csop4IILM",
        "colab_type": "code",
        "colab": {}
      },
      "source": [
        "from textblob import TextBlob"
      ],
      "execution_count": 0,
      "outputs": []
    },
    {
      "cell_type": "code",
      "metadata": {
        "id": "aodHRFB4IMS0",
        "colab_type": "code",
        "colab": {
          "base_uri": "https://localhost:8080/",
          "height": 350
        },
        "outputId": "a4211e70-72a6-4f93-9763-f12d7a0d058b"
      },
      "source": [
        "po=[]\n",
        "for i in range(len(tmpp)):\n",
        "    analysis=TextBlob(tmpp[i])\n",
        "    po.append(analysis.sentiment.polarity)\n",
        "    print(po[i],tmpp[i])"
      ],
      "execution_count": 29,
      "outputs": [
        {
          "output_type": "stream",
          "text": [
            "0.0 I look forward to your ideas and inputs for this month’s, which will take place on the 31st. You can:… \n",
            "0.225 Greetings to Union Minister Shri  Ji on his birthday. May Almighty bless him with a long and healthy life.\n",
            "0.21666666666666665 Birthday wishes to our former PM Shri  Ji. Praying for his long life and good health.\n",
            "0.0 यह गीत हर किसी को उत्साहित और प्रेरित करने वाला है। इसमें आत्मनिर्भर भारत के लिए सुरों से सजा उद्घोष है। \n",
            "0.3 Mazel Tov my friend  for forming your fifth government in Israel. I wish you and  success and loo… \n",
            "0.0 מזל טוב ידידי  על הקמת הממשלה החמישית בישראל. אני מאחל לך ול הצלחה רבה ומצפה להמשך שיתוף פעולה הד… \n",
            "0.0 Measures and reforms announced by the FM today will have a transformative impact on our health and education sector… \n",
            "0.2 Important sectors such as coal, minerals, defence, aviation, space and atomic energy have been covered in the annou… \n",
            "0.0 Thank you   This pandemic is being fought collectively by all of us. In such times, it’s a… \n",
            "0.7 Greetings on Sikkim’s Statehood Day. Home to talented and compassionate people, Sikkim has enriched national progre… \n",
            "0.0 उत्तर प्रदेश के औरैया में सड़क दुर्घटना बेहद ही दुखद है। सरकार राहत कार्य में तत्परता से जुटी है। इस हादसे में मारे… \n",
            "0.4 I welcome today’s measures announced by FM  They will help the rural economy, our hardworking farmers,… \n",
            "0.3888888888888889 Sectors like medical research, clean energy and climate resilience offer great opportunities to bring Danish and In… \n",
            "0.0 Spoke to PM  about the COVID-19 pandemic, and how India and Denmark can strengthen cooperation in the post-COVID era.\n",
            "0.0 Had an extensive interaction with  We discussed issues ranging from India’s efforts to fight Coronavirus… \n",
            "0.0 Today’s announcements by FM  will especially benefit our farmers and migrant workers. The announcements… \n",
            "-0.025 Today’s announcements by FM  will go a long way in addressing issues faced by businesses, especially MS… \n",
            "0.08333333333333333 The way ahead lies in LOCAL.Local Manufacturing. Local Markets. Local Supply Chain.Local is not merely a ne… \n",
            "0.0 एक विशेष आर्थिक पैकेज जो ‘आत्मनिर्भर भारत अभियान’ की अहम कड़ी के तौर पर काम करेगा। \n",
            "0.0 आत्मनिर्भर भारत की यह भव्य इमारत, इन पांच पिलर्स पर खड़ी होगी... \n"
          ],
          "name": "stdout"
        }
      ]
    },
    {
      "cell_type": "code",
      "metadata": {
        "id": "EZM_tMxNINdA",
        "colab_type": "code",
        "colab": {}
      },
      "source": [
        "import pandas as pd\n",
        "sentiment=pd.DataFrame(po,columns=[\"Polarity\"])"
      ],
      "execution_count": 0,
      "outputs": []
    },
    {
      "cell_type": "code",
      "metadata": {
        "id": "qacei06nIQko",
        "colab_type": "code",
        "colab": {
          "base_uri": "https://localhost:8080/",
          "height": 197
        },
        "outputId": "4e0c1b42-d835-416b-8da7-44f8bf5da6f6"
      },
      "source": [
        "senti=pd.DataFrame({'pol':po,'Tweets':tmpp},columns=[\"pol\",\"Tweets\"])\n",
        "senti.head()"
      ],
      "execution_count": 31,
      "outputs": [
        {
          "output_type": "execute_result",
          "data": {
            "text/html": [
              "<div>\n",
              "<style scoped>\n",
              "    .dataframe tbody tr th:only-of-type {\n",
              "        vertical-align: middle;\n",
              "    }\n",
              "\n",
              "    .dataframe tbody tr th {\n",
              "        vertical-align: top;\n",
              "    }\n",
              "\n",
              "    .dataframe thead th {\n",
              "        text-align: right;\n",
              "    }\n",
              "</style>\n",
              "<table border=\"1\" class=\"dataframe\">\n",
              "  <thead>\n",
              "    <tr style=\"text-align: right;\">\n",
              "      <th></th>\n",
              "      <th>pol</th>\n",
              "      <th>Tweets</th>\n",
              "    </tr>\n",
              "  </thead>\n",
              "  <tbody>\n",
              "    <tr>\n",
              "      <th>0</th>\n",
              "      <td>0.000000</td>\n",
              "      <td>I look forward to your ideas and inputs for th...</td>\n",
              "    </tr>\n",
              "    <tr>\n",
              "      <th>1</th>\n",
              "      <td>0.225000</td>\n",
              "      <td>Greetings to Union Minister Shri  Ji on his bi...</td>\n",
              "    </tr>\n",
              "    <tr>\n",
              "      <th>2</th>\n",
              "      <td>0.216667</td>\n",
              "      <td>Birthday wishes to our former PM Shri  Ji. Pra...</td>\n",
              "    </tr>\n",
              "    <tr>\n",
              "      <th>3</th>\n",
              "      <td>0.000000</td>\n",
              "      <td>यह गीत हर किसी को उत्साहित और प्रेरित करने वाल...</td>\n",
              "    </tr>\n",
              "    <tr>\n",
              "      <th>4</th>\n",
              "      <td>0.300000</td>\n",
              "      <td>Mazel Tov my friend  for forming your fifth go...</td>\n",
              "    </tr>\n",
              "  </tbody>\n",
              "</table>\n",
              "</div>"
            ],
            "text/plain": [
              "        pol                                             Tweets\n",
              "0  0.000000  I look forward to your ideas and inputs for th...\n",
              "1  0.225000  Greetings to Union Minister Shri  Ji on his bi...\n",
              "2  0.216667  Birthday wishes to our former PM Shri  Ji. Pra...\n",
              "3  0.000000  यह गीत हर किसी को उत्साहित और प्रेरित करने वाल...\n",
              "4  0.300000  Mazel Tov my friend  for forming your fifth go..."
            ]
          },
          "metadata": {
            "tags": []
          },
          "execution_count": 31
        }
      ]
    },
    {
      "cell_type": "code",
      "metadata": {
        "id": "sNg5E6TjIR-f",
        "colab_type": "code",
        "colab": {
          "base_uri": "https://localhost:8080/",
          "height": 265
        },
        "outputId": "ced6e592-3d97-4e70-d88b-db252f9c26e2"
      },
      "source": [
        "import matplotlib.pyplot as plt\n",
        "import seaborn as sns\n",
        "x_axis=[1,2,3,4,5,6,7,8,9,10,11,12,13,14,15,16,17,18,19,20]\n",
        "plt.plot(x_axis, senti.pol)\n",
        "plt.show()"
      ],
      "execution_count": 32,
      "outputs": [
        {
          "output_type": "display_data",
          "data": {
            "image/png": "[encoded data removed]",
            "text/plain": [
              "<Figure size 432x288 with 1 Axes>"
            ]
          },
          "metadata": {
            "tags": [],
            "needs_background": "light"
          }
        }
      ]
    },
    {
      "cell_type": "code",
      "metadata": {
        "id": "w7tgKRkoIUDd",
        "colab_type": "code",
        "colab": {}
      },
      "source": [
        ""
      ],
      "execution_count": 0,
      "outputs": []
    }
  ]
}